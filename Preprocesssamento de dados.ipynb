{
 "cells": [
  {
   "cell_type": "markdown",
   "metadata": {},
   "source": [
    "<h1>Data Pre-processing</h1>"
   ]
  },
  {
   "cell_type": "code",
   "execution_count": null,
   "metadata": {},
   "outputs": [],
   "source": [
    "# Acessar Google Drive\n",
    "import pandas as pd\n",
    "# Localizar e abrir arquivo no Google Drive\n",
    "pnad = pd.read_csv('Dados/pnadc2019-24-10.csv')"
   ]
  },
  {
   "cell_type": "code",
   "execution_count": null,
   "metadata": {},
   "outputs": [],
   "source": [
    "pnad_sel = pnad[['UF','V2007','V2010', 'V2009', 'V4009', 'V3009', 'V4005', 'VD4019']]"
   ]
  },
  {
   "cell_type": "code",
   "execution_count": null,
   "metadata": {},
   "outputs": [],
   "source": [
    "pnad_sel.rename(columns={'V2007': 'SEXO', 'V2010': 'RACA', 'V2009':'IDADE', 'V4009': 'EMPREGADO', 'V3009': 'FORMACAO', 'V4005': 'AFASTADO', 'VD4019': 'RENDIMENTO'}, inplace=True)"
   ]
  },
  {
   "cell_type": "markdown",
   "metadata": {},
   "source": [
    "<h3>Tratando sexo como classificação com duas categorias</h3>"
   ]
  },
  {
   "cell_type": "code",
   "execution_count": null,
   "metadata": {},
   "outputs": [],
   "source": [
    "pnad_sel_sexo = pnad_sel\n",
    "pnad_sel_sexo['SEXO'] = pnad_sel['SEXO'].apply(lambda x: 'M' if x == 1 else 'F')\n",
    "pnad_sel_sexo"
   ]
  },
  {
   "cell_type": "code",
   "execution_count": null,
   "metadata": {},
   "outputs": [],
   "source": [
    "pnad_sel_sexo.describe()"
   ]
  },
  {
   "cell_type": "code",
   "execution_count": null,
   "metadata": {
    "scrolled": true
   },
   "outputs": [],
   "source": [
    "pnad_final = pd.get_dummies(pnad_sel_sexo)\n",
    "pnad_final"
   ]
  },
  {
   "cell_type": "markdown",
   "metadata": {},
   "source": [
    "<h3>Separando as raças em diferente colunas</h3>"
   ]
  },
  {
   "cell_type": "code",
   "execution_count": null,
   "metadata": {},
   "outputs": [],
   "source": [
    "pnad_sel_raca = pnad_final\n",
    "# com a variável V2010 ( Raça: 1 = Branca, 2 = Preta, 3 = Amarela, 4 = Parda, 5 = Indio, 9 = não informado)\n",
    "pnad_sel_raca['RACA'] = pnad_sel_raca['RACA'].apply(lambda x: 'BRANCA' if x == 1 else ('PRETA' if x == 2 else ('AMARELA' if x == 3 else 'PARDA' if x == 4 else ('INDIO' if x == 5 else 'NAO_INFORMADO'))))"
   ]
  },
  {
   "cell_type": "code",
   "execution_count": null,
   "metadata": {},
   "outputs": [],
   "source": [
    "pnad_sel_raca"
   ]
  },
  {
   "cell_type": "code",
   "execution_count": null,
   "metadata": {},
   "outputs": [],
   "source": [
    "pnad_sel_raca_dv = pd.get_dummies(pnad_sel_raca)\n",
    "pnad_sel_raca_dv"
   ]
  },
  {
   "cell_type": "code",
   "execution_count": null,
   "metadata": {},
   "outputs": [],
   "source": [
    "pnad_sel_raca_dv.describe()"
   ]
  }
 ],
 "metadata": {
  "kernelspec": {
   "display_name": "Python 3",
   "language": "python",
   "name": "python3"
  },
  "language_info": {
   "codemirror_mode": {
    "name": "ipython",
    "version": 3
   },
   "file_extension": ".py",
   "mimetype": "text/x-python",
   "name": "python",
   "nbconvert_exporter": "python",
   "pygments_lexer": "ipython3",
   "version": "3.7.3"
  }
 },
 "nbformat": 4,
 "nbformat_minor": 2
}
